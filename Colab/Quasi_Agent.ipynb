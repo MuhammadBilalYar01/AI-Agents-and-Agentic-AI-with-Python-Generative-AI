{
  "nbformat": 4,
  "nbformat_minor": 0,
  "metadata": {
    "colab": {
      "provenance": [],
      "authorship_tag": "ABX9TyNXLZonrDEHT57cYSlNBlgI"
    },
    "kernelspec": {
      "name": "python3",
      "display_name": "Python 3"
    },
    "language_info": {
      "name": "python"
    }
  },
  "cells": [
    {
      "cell_type": "code",
      "execution_count": 6,
      "metadata": {
        "id": "gd1M7Of3BfLw"
      },
      "outputs": [],
      "source": [
        "!!pip install litellm\n",
        "\n",
        "import os\n",
        "from google.colab import userdata\n",
        "api_key = userdata.get('OPENAI_API_KEY')\n",
        "os.environ['OPENAI_API_KEY'] = api_key"
      ]
    },
    {
      "cell_type": "code",
      "source": [
        "from litellm import completion\n",
        "from typing import List, Dict\n",
        "\n",
        "def generate_response(messages: List[Dict]) -> str:\n",
        "    \"\"\"Call LLM to get response\"\"\"\n",
        "    response = completion(\n",
        "        model=\"openai/gpt-4o\",\n",
        "        messages=messages,\n",
        "        max_tokens=1024\n",
        "    )\n",
        "    return response.choices[0].message.content"
      ],
      "metadata": {
        "id": "mHAuC45nBo1X"
      },
      "execution_count": 7,
      "outputs": []
    },
    {
      "cell_type": "code",
      "source": [
        "def extract_code_block(response: str) -> str:\n",
        "    \"\"\"Extract code block from response\"\"\"\n",
        "    if not '```' in response:\n",
        "        return response\n",
        "\n",
        "    code_block = response.split('```')[1].strip()\n",
        "    if code_block.startswith(\"python\"):\n",
        "        code_block = code_block[6:]\n",
        "\n",
        "    return code_block"
      ],
      "metadata": {
        "id": "cgylyoSaBpvC"
      },
      "execution_count": 8,
      "outputs": []
    },
    {
      "cell_type": "code",
      "source": [
        "print(\"\\nWhat kind of function would you like to create?\")\n",
        "print(\"Example: 'A function that calculates the factorial of a number'\")\n",
        "print(\"Your description: \", end='')\n",
        "function_description = input().strip()"
      ],
      "metadata": {
        "colab": {
          "base_uri": "https://localhost:8080/"
        },
        "id": "MCZhqqH4CDZw",
        "outputId": "d85f1378-f918-425e-944d-b1051cf8cad6"
      },
      "execution_count": 9,
      "outputs": [
        {
          "name": "stdout",
          "output_type": "stream",
          "text": [
            "\n",
            "What kind of function would you like to create?\n",
            "Example: 'A function that calculates the factorial of a number'\n",
            "Your description: Calculate fibonacci sequence up to n\n"
          ]
        }
      ]
    },
    {
      "cell_type": "code",
      "source": [
        "# Initialize conversation with system prompt\n",
        "messages = [\n",
        "      {\"role\": \"system\", \"content\": \"You are a Python expert helping to develop a function.\"}\n",
        "   ]"
      ],
      "metadata": {
        "id": "vhgXxsw8CvQi"
      },
      "execution_count": 10,
      "outputs": []
    },
    {
      "cell_type": "code",
      "source": [
        "# First prompt - Basic function\n",
        "messages.append({\n",
        "      \"role\": \"user\",\n",
        "      \"content\": f\"Write a Python function that {function_description}. Output the function in a ```python code block```.\"\n",
        "   })\n",
        "\n",
        "initial_function = generate_response(messages)"
      ],
      "metadata": {
        "id": "X4Ia88SpC0qZ"
      },
      "execution_count": 11,
      "outputs": []
    },
    {
      "cell_type": "code",
      "source": [
        "# Parse the response to get the function code\n",
        "initial_function = extract_code_block(initial_function)\n",
        "\n",
        "print(\"\\n=== Initial Function ===\")\n",
        "print(initial_function)"
      ],
      "metadata": {
        "colab": {
          "base_uri": "https://localhost:8080/"
        },
        "id": "DahLYfPrC9zv",
        "outputId": "db149b1f-3ab0-4102-c98d-366f2d198a0c"
      },
      "execution_count": 12,
      "outputs": [
        {
          "output_type": "stream",
          "name": "stdout",
          "text": [
            "\n",
            "=== Initial Function ===\n",
            "\n",
            "def fibonacci_sequence(n):\n",
            "    \"\"\"\n",
            "    Calculate the Fibonacci sequence up to the nth term.\n",
            "    \n",
            "    Parameters:\n",
            "    n (int): The number of terms to calculate in the Fibonacci sequence.\n",
            "\n",
            "    Returns:\n",
            "    list: A list containing the Fibonacci sequence up to the nth term.\n",
            "    \"\"\"\n",
            "    if n <= 0:\n",
            "        return []\n",
            "    elif n == 1:\n",
            "        return [0]\n",
            "    elif n == 2:\n",
            "        return [0, 1]\n",
            "\n",
            "    fib_sequence = [0, 1]\n",
            "    for i in range(2, n):\n",
            "        next_value = fib_sequence[-1] + fib_sequence[-2]\n",
            "        fib_sequence.append(next_value)\n",
            "    \n",
            "    return fib_sequence\n",
            "\n",
            "# Example usage:\n",
            "# fibonacci_sequence(10) will return [0, 1, 1, 2, 3, 5, 8, 13, 21, 34]\n"
          ]
        }
      ]
    },
    {
      "cell_type": "code",
      "source": [
        "# Add assistant's response to conversation\n",
        "# Notice that I am purposely causing it to forget its commentary and just see the code so that\n",
        "# it appears that is always outputting just code.\n",
        "messages.append({\"role\": \"assistant\", \"content\": \"\\`\\`\\`python\\n\\n\"+initial_function+\"\\n\\n\\`\\`\\`\"})"
      ],
      "metadata": {
        "id": "7jaYWTXNDOmz"
      },
      "execution_count": 13,
      "outputs": []
    },
    {
      "cell_type": "code",
      "source": [
        "# Second prompt - Add documentation\n",
        "messages.append({\n",
        "      \"role\": \"user\",\n",
        "      \"content\": \"Add comprehensive documentation to this function, including description, parameters, \"\n",
        "                 \"return value, examples, and edge cases. Output the function in a ```python code block```.\"\n",
        "   })"
      ],
      "metadata": {
        "id": "211UZTxXDaQX"
      },
      "execution_count": 14,
      "outputs": []
    },
    {
      "cell_type": "code",
      "source": [
        "documented_function = generate_response(messages)\n",
        "documented_function = extract_code_block(documented_function)\n",
        "\n",
        "print(\"\\n=== Documented Function ===\")\n",
        "print(documented_function)"
      ],
      "metadata": {
        "colab": {
          "base_uri": "https://localhost:8080/"
        },
        "id": "xR491c26DgDl",
        "outputId": "a521de40-74f2-4a5a-dca7-9458e1726dfb"
      },
      "execution_count": 15,
      "outputs": [
        {
          "output_type": "stream",
          "name": "stdout",
          "text": [
            "\n",
            "=== Documented Function ===\n",
            "\n",
            "def fibonacci_sequence(n):\n",
            "    \"\"\"\n",
            "    Calculate the Fibonacci sequence up to the nth term.\n",
            "    \n",
            "    The Fibonacci sequence is a series of numbers where each number is the sum \n",
            "    of the two preceding ones, typically starting with 0 and 1. That is, the \n",
            "    sequence goes 0, 1, 1, 2, 3, 5, 8, and so on.\n",
            "\n",
            "    Parameters:\n",
            "    n (int): The number of terms to calculate in the Fibonacci sequence.\n",
            "             Must be a non-negative integer.\n",
            "\n",
            "    Returns:\n",
            "    list: A list containing the Fibonacci sequence up to the nth term.\n",
            "\n",
            "    Examples:\n",
            "    --------\n",
            "    >>> fibonacci_sequence(0)\n",
            "    []\n",
            "\n",
            "    >>> fibonacci_sequence(1)\n",
            "    [0]\n",
            "\n",
            "    >>> fibonacci_sequence(2)\n",
            "    [0, 1]\n",
            "\n",
            "    >>> fibonacci_sequence(5)\n",
            "    [0, 1, 1, 2, 3]\n",
            "\n",
            "    >>> fibonacci_sequence(10)\n",
            "    [0, 1, 1, 2, 3, 5, 8, 13, 21, 34]\n",
            "\n",
            "    Edge Cases:\n",
            "    -----------\n",
            "    - If n is 0, return an empty list since no terms are requested.\n",
            "    - If n is 1, return [0] as it is the first Fibonacci number.\n",
            "    - Negative values for n will return an empty list since they are not valid.\n",
            "\n",
            "    \"\"\"\n",
            "    if n <= 0:\n",
            "        return []\n",
            "    elif n == 1:\n",
            "        return [0]\n",
            "    elif n == 2:\n",
            "        return [0, 1]\n",
            "\n",
            "    fib_sequence = [0, 1]\n",
            "    for i in range(2, n):\n",
            "        next_value = fib_sequence[-1] + fib_sequence[-2]\n",
            "        fib_sequence.append(next_value)\n",
            "    \n",
            "    return fib_sequence\n",
            "\n",
            "# Example usage:\n",
            "# fibonacci_sequence(10) will return [0, 1, 1, 2, 3, 5, 8, 13, 21, 34]\n"
          ]
        }
      ]
    },
    {
      "cell_type": "code",
      "source": [
        "# Add documentation response to conversation\n",
        "messages.append({\"role\": \"assistant\", \"content\": \"\\`\\`\\`python\\n\\n\"+documented_function+\"\\n\\n\\`\\`\\`\"})\n",
        "\n",
        "# Third prompt - Add test cases\n",
        "messages.append({\n",
        "      \"role\": \"user\",\n",
        "      \"content\": \"Add unittest test cases for this function, including tests for basic functionality, \"\n",
        "                 \"edge cases, error cases, and various input scenarios. Output the code in a \\`\\`\\`python code block\\`\\`\\`.\"\n",
        "   })\n",
        "\n",
        "test_cases = generate_response(messages)"
      ],
      "metadata": {
        "id": "AN8mgwTeDr7_"
      },
      "execution_count": 16,
      "outputs": []
    },
    {
      "cell_type": "code",
      "source": [
        "# We will likely run into random problems here depending on if it outputs JUST the test cases or the\n",
        "# test cases AND the code. This is the type of issue we will learn to work through with agents in the course.\n",
        "test_cases = extract_code_block(test_cases)\n",
        "print(\"\\n=== Test Cases ===\")\n",
        "print(test_cases)"
      ],
      "metadata": {
        "colab": {
          "base_uri": "https://localhost:8080/"
        },
        "id": "V0LroT-4DyGK",
        "outputId": "1c214e25-2fdc-4ccf-967f-d292a3c4056b"
      },
      "execution_count": 17,
      "outputs": [
        {
          "output_type": "stream",
          "name": "stdout",
          "text": [
            "\n",
            "=== Test Cases ===\n",
            "\n",
            "import unittest\n",
            "\n",
            "def fibonacci_sequence(n):\n",
            "    \"\"\"\n",
            "    Calculate the Fibonacci sequence up to the nth term.\n",
            "    \"\"\"\n",
            "    if n <= 0:\n",
            "        return []\n",
            "    elif n == 1:\n",
            "        return [0]\n",
            "    elif n == 2:\n",
            "        return [0, 1]\n",
            "\n",
            "    fib_sequence = [0, 1]\n",
            "    for i in range(2, n):\n",
            "        next_value = fib_sequence[-1] + fib_sequence[-2]\n",
            "        fib_sequence.append(next_value)\n",
            "    \n",
            "    return fib_sequence\n",
            "\n",
            "class TestFibonacciSequence(unittest.TestCase):\n",
            "    def test_basic_functionality(self):\n",
            "        # Basic functionality tests\n",
            "        self.assertEqual(fibonacci_sequence(5), [0, 1, 1, 2, 3])\n",
            "        self.assertEqual(fibonacci_sequence(10), [0, 1, 1, 2, 3, 5, 8, 13, 21, 34])\n",
            "\n",
            "    def test_edge_cases(self):\n",
            "        # Edge cases\n",
            "        self.assertEqual(fibonacci_sequence(0), [])\n",
            "        self.assertEqual(fibonacci_sequence(1), [0])\n",
            "        self.assertEqual(fibonacci_sequence(2), [0, 1])\n",
            "\n",
            "    def test_validity_for_negative_input(self):\n",
            "        # Test for negative input, should return empty list\n",
            "        self.assertEqual(fibonacci_sequence(-5), [])\n",
            "\n",
            "    def test_large_n(self):\n",
            "        # Test for a larger input value\n",
            "        self.assertEqual(fibonacci_sequence(15), [0, 1, 1, 2, 3, 5, 8, 13, 21, 34, 55, 89, 144, 233, 377])\n",
            "\n",
            "    def test_non_integer_input(self):\n",
            "        # Non-integer input should raise TypeError\n",
            "        with self.assertRaises(TypeError):\n",
            "            fibonacci_sequence(\"10\")\n",
            "            fibonacci_sequence(5.5)\n",
            "            fibonacci_sequence(None)\n",
            "\n",
            "if __name__ == \"__main__\":\n",
            "    unittest.main()\n"
          ]
        }
      ]
    },
    {
      "cell_type": "code",
      "source": [
        "# Generate filename from function description\n",
        "filename = function_description.lower()\n",
        "filename = ''.join(c for c in filename if c.isalnum() or c.isspace())\n",
        "filename = filename.replace(' ', '_')[:30] + '.py'\n",
        "\n",
        "   # Save final version\n",
        "with open(filename, 'w') as f:\n",
        "  f.write(documented_function + '\\n\\n' + test_cases)\n"
      ],
      "metadata": {
        "id": "ct5pwJAjECBv"
      },
      "execution_count": 18,
      "outputs": []
    },
    {
      "cell_type": "code",
      "source": [
        "print(\"\\n=== Initial Function ===\")\n",
        "print(initial_function)\n",
        "\n",
        "print(\"\\n=== Documented Function ===\")\n",
        "print(documented_function)\n",
        "\n",
        "print(\"\\n=== Test Cases ===\")\n",
        "print(test_cases)"
      ],
      "metadata": {
        "colab": {
          "base_uri": "https://localhost:8080/"
        },
        "id": "fx4R0bh3EQl1",
        "outputId": "9e13c42d-6c94-4156-f462-88016435fd88"
      },
      "execution_count": 19,
      "outputs": [
        {
          "output_type": "stream",
          "name": "stdout",
          "text": [
            "\n",
            "=== Initial Function ===\n",
            "\n",
            "def fibonacci_sequence(n):\n",
            "    \"\"\"\n",
            "    Calculate the Fibonacci sequence up to the nth term.\n",
            "    \n",
            "    Parameters:\n",
            "    n (int): The number of terms to calculate in the Fibonacci sequence.\n",
            "\n",
            "    Returns:\n",
            "    list: A list containing the Fibonacci sequence up to the nth term.\n",
            "    \"\"\"\n",
            "    if n <= 0:\n",
            "        return []\n",
            "    elif n == 1:\n",
            "        return [0]\n",
            "    elif n == 2:\n",
            "        return [0, 1]\n",
            "\n",
            "    fib_sequence = [0, 1]\n",
            "    for i in range(2, n):\n",
            "        next_value = fib_sequence[-1] + fib_sequence[-2]\n",
            "        fib_sequence.append(next_value)\n",
            "    \n",
            "    return fib_sequence\n",
            "\n",
            "# Example usage:\n",
            "# fibonacci_sequence(10) will return [0, 1, 1, 2, 3, 5, 8, 13, 21, 34]\n",
            "\n",
            "=== Documented Function ===\n",
            "\n",
            "def fibonacci_sequence(n):\n",
            "    \"\"\"\n",
            "    Calculate the Fibonacci sequence up to the nth term.\n",
            "    \n",
            "    The Fibonacci sequence is a series of numbers where each number is the sum \n",
            "    of the two preceding ones, typically starting with 0 and 1. That is, the \n",
            "    sequence goes 0, 1, 1, 2, 3, 5, 8, and so on.\n",
            "\n",
            "    Parameters:\n",
            "    n (int): The number of terms to calculate in the Fibonacci sequence.\n",
            "             Must be a non-negative integer.\n",
            "\n",
            "    Returns:\n",
            "    list: A list containing the Fibonacci sequence up to the nth term.\n",
            "\n",
            "    Examples:\n",
            "    --------\n",
            "    >>> fibonacci_sequence(0)\n",
            "    []\n",
            "\n",
            "    >>> fibonacci_sequence(1)\n",
            "    [0]\n",
            "\n",
            "    >>> fibonacci_sequence(2)\n",
            "    [0, 1]\n",
            "\n",
            "    >>> fibonacci_sequence(5)\n",
            "    [0, 1, 1, 2, 3]\n",
            "\n",
            "    >>> fibonacci_sequence(10)\n",
            "    [0, 1, 1, 2, 3, 5, 8, 13, 21, 34]\n",
            "\n",
            "    Edge Cases:\n",
            "    -----------\n",
            "    - If n is 0, return an empty list since no terms are requested.\n",
            "    - If n is 1, return [0] as it is the first Fibonacci number.\n",
            "    - Negative values for n will return an empty list since they are not valid.\n",
            "\n",
            "    \"\"\"\n",
            "    if n <= 0:\n",
            "        return []\n",
            "    elif n == 1:\n",
            "        return [0]\n",
            "    elif n == 2:\n",
            "        return [0, 1]\n",
            "\n",
            "    fib_sequence = [0, 1]\n",
            "    for i in range(2, n):\n",
            "        next_value = fib_sequence[-1] + fib_sequence[-2]\n",
            "        fib_sequence.append(next_value)\n",
            "    \n",
            "    return fib_sequence\n",
            "\n",
            "# Example usage:\n",
            "# fibonacci_sequence(10) will return [0, 1, 1, 2, 3, 5, 8, 13, 21, 34]\n",
            "\n",
            "=== Test Cases ===\n",
            "\n",
            "import unittest\n",
            "\n",
            "def fibonacci_sequence(n):\n",
            "    \"\"\"\n",
            "    Calculate the Fibonacci sequence up to the nth term.\n",
            "    \"\"\"\n",
            "    if n <= 0:\n",
            "        return []\n",
            "    elif n == 1:\n",
            "        return [0]\n",
            "    elif n == 2:\n",
            "        return [0, 1]\n",
            "\n",
            "    fib_sequence = [0, 1]\n",
            "    for i in range(2, n):\n",
            "        next_value = fib_sequence[-1] + fib_sequence[-2]\n",
            "        fib_sequence.append(next_value)\n",
            "    \n",
            "    return fib_sequence\n",
            "\n",
            "class TestFibonacciSequence(unittest.TestCase):\n",
            "    def test_basic_functionality(self):\n",
            "        # Basic functionality tests\n",
            "        self.assertEqual(fibonacci_sequence(5), [0, 1, 1, 2, 3])\n",
            "        self.assertEqual(fibonacci_sequence(10), [0, 1, 1, 2, 3, 5, 8, 13, 21, 34])\n",
            "\n",
            "    def test_edge_cases(self):\n",
            "        # Edge cases\n",
            "        self.assertEqual(fibonacci_sequence(0), [])\n",
            "        self.assertEqual(fibonacci_sequence(1), [0])\n",
            "        self.assertEqual(fibonacci_sequence(2), [0, 1])\n",
            "\n",
            "    def test_validity_for_negative_input(self):\n",
            "        # Test for negative input, should return empty list\n",
            "        self.assertEqual(fibonacci_sequence(-5), [])\n",
            "\n",
            "    def test_large_n(self):\n",
            "        # Test for a larger input value\n",
            "        self.assertEqual(fibonacci_sequence(15), [0, 1, 1, 2, 3, 5, 8, 13, 21, 34, 55, 89, 144, 233, 377])\n",
            "\n",
            "    def test_non_integer_input(self):\n",
            "        # Non-integer input should raise TypeError\n",
            "        with self.assertRaises(TypeError):\n",
            "            fibonacci_sequence(\"10\")\n",
            "            fibonacci_sequence(5.5)\n",
            "            fibonacci_sequence(None)\n",
            "\n",
            "if __name__ == \"__main__\":\n",
            "    unittest.main()\n"
          ]
        }
      ]
    }
  ]
}